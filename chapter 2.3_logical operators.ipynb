{
 "cells": [
  {
   "cell_type": "markdown",
   "id": "3ea900e1",
   "metadata": {},
   "source": [
    "#### Operators \n",
    "\n",
    "Operators are the simplest ways to act on simple data types like integers or floats. They typically work on the most primitive data types in programming languages. Mathematical operators work on integers and floats while logical operators work on booleans. \n",
    "\n",
    "Some languages allow us to use operators in creative ways, though. We can use subtraction with dates to find time between them or multiply strings for duplication. \n",
    "\n",
    "##### Mathematical operators are likely most familiar, but less important. \n",
    "\n",
    "Most lanuages have at least five mathematical operators \n",
    "\n",
    "`addition`\n",
    "`subtraction`\n",
    "`multiplication`\n",
    "`division`\n",
    "`modulus`\n",
    "\n",
    "Most often these operators work on numbers, but sometimes we will find we can use these on other data types as well. \n",
    "\n",
    "##### Logical operators play a big role in computing "
   ]
  },
  {
   "cell_type": "markdown",
   "id": "399bd19f",
   "metadata": {},
   "source": [
    "##### Generally, there are two kinds of logical operators: \n",
    "\n",
    "`relational operators` and `boolean operators`\n",
    "\n",
    "**Relational operators** check if things are true in the world or our data. They check the relationship between multiple things. \n",
    "**Boolean operators** check the combination of multiple relational operators. \n",
    "\n",
    "Logical operators are closely entwined with a conditional statement. When one compares something, the comparison is the logical operator while the decision based on that comparison is the conditional. "
   ]
  },
  {
   "cell_type": "markdown",
   "id": "e220b0a7",
   "metadata": {},
   "source": [
    "##### Numeric Comparison Operators \n",
    "\n",
    "Operators that facilitate numeric comparison between values. Typically, these are greater than (>), greater than or equal to (>=), equal to (==), less than (<) and less than or equal to (<=). \n",
    "\n",
    "**These operators can sometimes be used for comparisons that are not numeric, but that nonetheless have underlying order.**\n",
    "\n",
    "`Apple > Banana = True` \n",
    "`January 1, 2017 > January 15, 2017 = True`\n",
    "\n",
    "##### Non-Numeric Equality Comparisons: \n",
    "\n",
    "Nearly any kind of data can compare for equality, even if it isn't numeric. We can't ask if an apple is greater than an orange, but we can ask if apples and oranges are 'equal', or the same thing.\n",
    "\n",
    "This can be relevant for strings. `\"Hello!\" = \"Hello!\"` would be True. \n",
    "\n",
    "**Note, greater than or less than operators can work on strings by sorting alphabetically. It is compared by the first element (letter) and that closer to the beginning (A) is smaller. So \"JAIFK\" would be smaller than \"JBIFK\". If *or equals to* is included, you may also find values that are identical strings (although you could also use `==`**\n",
    "\n",
    "##### Set Operators: \n",
    "Check to see if a value is a member of a set of multiple values (i.e., a list of things). Most often this comes up in strings and lists.\n",
    "\n",
    "Numeric equality comparisons use `==` to evaluate two values. Recall, `=` is an assignment operator while `==` is a numeric operator; it checks if two things equal one another.\n",
    "\n",
    "Another operator, which is also a reserved word, is `in`. When printed, `in` can check if some string, value, or element is contained in something. \n",
    "\n",
    "##### Boolean Operators: \n",
    "\n",
    "Operators like “and” and “or” that act on pairs of boolean (true or false) values, or that act on single boolean values, like “not”.\n",
    "\n",
    "**and** - An operator that acts on two boolean values and evaluates to `True` if and only if both are true. \n",
    "\n",
    "**or** - An operator that acts on two boolean values and evaluates to `True` if and only if **at least one is true**. \n",
    "\n",
    "**not** - An operator that acts on one boolean value and evaluates to the opposite value. \n",
    "    e.g., `not` rotten returns true is rotten is false. "
   ]
  },
  {
   "cell_type": "code",
   "execution_count": 3,
   "id": "62aa4740",
   "metadata": {},
   "outputs": [
    {
     "name": "stdout",
     "output_type": "stream",
     "text": [
      "True\n",
      "False\n"
     ]
    }
   ],
   "source": [
    "## Combining operators \n",
    "\n",
    "onList = True \n",
    "inStock = True \n",
    "onSale = False \n",
    "rotten = False \n",
    "\n",
    "print(((onList or onSale) and inStock) and not rotten)\n",
    "print(onSale and inStock)\n",
    "# Will print True "
   ]
  },
  {
   "cell_type": "markdown",
   "id": "56eb7475",
   "metadata": {},
   "source": [
    "##### Dealing with Boolean Operators \n",
    "\n",
    "**Truth Tables** are tables that map out the results of a statement in boolean logica depending on the individual variables.\n",
    "\n",
    "Value of A\tValue of B\tValue of (A and B)\tValue of (A or B)\tValue of (not B)\n",
    "True\tbTrue\tTrue\tTrue\tFalse\n",
    "True\tFalse\tFalse\tTrue\tTrue\n",
    "False\tTrue\tFalse\tTrue\tFalse\n",
    "False\tFalse\tFalse\tFalse\tTrue\n",
    "\n",
    "\n",
    "##### Communitive Property \n",
    "\n",
    "If we start mixing `and` and `or`, the boolean value results may change. This is why parentheses are critical when going through the logic. \n",
    "\n",
    "**De Morgan's Law (And --> Or)**\n",
    "`not(A or B)` is the same as `not A and not B`"
   ]
  },
  {
   "cell_type": "code",
   "execution_count": 7,
   "id": "21a3db86",
   "metadata": {},
   "outputs": [
    {
     "name": "stdout",
     "output_type": "stream",
     "text": [
      "True\n"
     ]
    }
   ],
   "source": [
    "c = 6 \n",
    "print(6 == c)"
   ]
  },
  {
   "cell_type": "code",
   "execution_count": 8,
   "id": "263bd9c3",
   "metadata": {},
   "outputs": [
    {
     "ename": "SyntaxError",
     "evalue": "invalid syntax (1990252451.py, line 42)",
     "output_type": "error",
     "traceback": [
      "\u001b[0;36m  File \u001b[0;32m\"/var/folders/_3/wt88r8mx2614586f7ndk2yvm0000gn/T/ipykernel_4813/1990252451.py\"\u001b[0;36m, line \u001b[0;32m42\u001b[0m\n\u001b[0;31m    else:\u001b[0m\n\u001b[0m    ^\u001b[0m\n\u001b[0;31mSyntaxError\u001b[0m\u001b[0;31m:\u001b[0m invalid syntax\n"
     ]
    }
   ],
   "source": [
    "test_percent = 20\n",
    "review_time = 2\n",
    "feel_prepared = True\n",
    "\n",
    "\n",
    "#You've been studying for your test for a few hours and you're\n",
    "#trying to decide if you can go to bed or if you need to study\n",
    "#longer.\n",
    "\n",
    "#To go to bed, you need to feel prepared. Even if you \"feel\"\n",
    "#prepared, you need to make sure you have prepared adequately:\n",
    "#that means reviewing for at least 2 hours (review_time), or\n",
    "#at least 4 hours if the test is worth 20 percent or more of\n",
    "#your grade.\n",
    "\n",
    "#So, to go to bed, you must feel prepared (feel_prepared must\n",
    "#be True), \n",
    "#and you must have reviewed for 2 or more hours\n",
    "#(review_time must be greater than or requal to 2). \n",
    "\n",
    "#If the\n",
    "#test is worth 20% or more (test_percent is greater than\n",
    "#or equal to 20), you should have reviewed for 4 or more hours\n",
    "#(review_time greater than or equal to 4).\n",
    "\n",
    "\n",
    "#Add your code below! It should print True if you can go to\n",
    "#bed, False if you cannot.\n",
    "\n",
    "\n",
    "if feel_prepared:\n",
    "    if test_percent >= 20:\n",
    "        if review_time >= 4:\n",
    "            print(True)\n",
    "        else: \n",
    "            print(False)\n",
    "    else:\n",
    "        if review_time >= 2:\n",
    "            print(True)\n",
    "        else: \n",
    "            print(False)\n",
    "else: \n",
    "    print(False)"
   ]
  },
  {
   "cell_type": "code",
   "execution_count": 13,
   "id": "fc1e21b1",
   "metadata": {},
   "outputs": [
    {
     "name": "stdout",
     "output_type": "stream",
     "text": [
      "True\n",
      "False\n"
     ]
    }
   ],
   "source": [
    "test_percent = 20\n",
    "review_time = 4\n",
    "feel_prepared = True\n",
    "\n",
    "def validate():\n",
    "    if feel_prepared:\n",
    "        if test_percent >= 20:\n",
    "            if review_time >= 4:\n",
    "                return True \n",
    "        else:\n",
    "            if review_time >= 2:\n",
    "                return True \n",
    "        return False \n",
    "\n",
    "val = validate()\n",
    "print(val)\n",
    "print(not val)"
   ]
  },
  {
   "cell_type": "markdown",
   "id": "8d7ab67a",
   "metadata": {},
   "source": [
    "#### Return vs. Print \n",
    "\n",
    "Returning pops the value out; it doesn't need to print anywhere unless actually stated. This could just get lost in the ether somewhere. \n",
    "\n",
    "Printing actually creates visible output on the console. "
   ]
  },
  {
   "cell_type": "code",
   "execution_count": 1,
   "id": "ea7d47a4",
   "metadata": {},
   "outputs": [
    {
     "name": "stdout",
     "output_type": "stream",
     "text": [
      "Happy: True\n",
      "Sad: True\n",
      "Confused: True\n",
      "Bored: False\n",
      "Anxious: False\n"
     ]
    }
   ],
   "source": [
    "busy = True\n",
    "hungry = False\n",
    "tired = True\n",
    "stressed = False\n",
    "\n",
    "#Logical operators get more complex when we start using them\n",
    "#with the results of other logical operators. So, let's try\n",
    "#it out!\n",
    "\n",
    "#Using the variables above, we want to assess whether the\n",
    "#person is happy, sad, bored, confused, or anxious.\n",
    "\n",
    "# The person is happy if they're busy but not stressed.\n",
    "        #+busy/-stress\n",
    "# The person is sad if they're either hungry or tired.\n",
    "        #+/- hungry or tired \n",
    "# - The person is confused if they're both happy and sad.\n",
    "# - The person is bored if they're neither happy, sad,\n",
    "#   nor busy.\n",
    "# - The person is anxious if they're neither happy nor sad,\n",
    "#   but they are stressed.\n",
    "\n",
    "#Add code below whose output will list whether each of these\n",
    "#emotions is true or false. For example, with the original\n",
    "#values of the variables above, this would print:\n",
    "\n",
    "#Happy: True\n",
    "#Sad: True\n",
    "#Confused: True\n",
    "#Bored: False\n",
    "#Anxious: False\n",
    "\n",
    "\n",
    "#Add your code here!\n",
    "def ishappy():\n",
    "    if busy:\n",
    "        if not stressed:\n",
    "            return True \n",
    "    return False \n",
    "\n",
    "def issad():\n",
    "    if hungry or tired:\n",
    "        return True \n",
    "    return False \n",
    "\n",
    "def isconfused():\n",
    "    if ishappy() and issad():\n",
    "        return True \n",
    "    return False \n",
    "\n",
    "def isbored():\n",
    "    if not ishappy() and not issad() and not busy:\n",
    "        return True \n",
    "    return False \n",
    "\n",
    "def isanxious():\n",
    "    if stressed:\n",
    "        if not ishappy() and not issad():\n",
    "            return True\n",
    "    return False \n",
    "        \n",
    "print(f\"Happy: {ishappy()}\")\n",
    "print(f\"Sad: {issad()}\")\n",
    "print(f\"Confused: {isconfused()}\")\n",
    "print(f\"Bored: {isbored()}\")\n",
    "print(f\"Anxious: {isanxious()}\")"
   ]
  },
  {
   "cell_type": "code",
   "execution_count": 3,
   "id": "e2ba0bba",
   "metadata": {},
   "outputs": [],
   "source": [
    "def canafford():\n",
    "    if can_afford:\n",
    "        if destination_is_safe:\n",
    "            return True \n",
    "    else: \n",
    "        if destination_is_safe:\n",
    "            if educational_value or relatives_nearby:\n",
    "                return True \n",
    "    return False \n",
    "\n",
    "def cango():\n",
    "    if is_international:\n",
    "        if have_passport and not afraid_to_fly:\n",
    "            return True \n",
    "    else: \n",
    "        if have_a_car or not afraid_to_fly:\n",
    "            return True \n",
    "    return False \n",
    "\n",
    "## I need to make it so that if it is both a beach and a city or both a skiing and city\n",
    "def wantgo():\n",
    "    if is_a_beach:\n",
    "        if is_warm:\n",
    "            return True \n",
    "    if has_skiing:\n",
    "        if not is_warm:\n",
    "            return True \n",
    "    if is_a_city:\n",
    "        if is_off_peak or has_attraction:\n",
    "            return True \n",
    "    return False \n",
    "        "
   ]
  },
  {
   "cell_type": "code",
   "execution_count": 4,
   "id": "42692c0d",
   "metadata": {},
   "outputs": [],
   "source": [
    "def beach():\n",
    "    if is_a_beach:\n",
    "        if is_warm:\n",
    "            return True \n",
    "    return False \n",
    "    \n",
    "def skii():\n",
    "    if has_skiing:\n",
    "        if not is_warm:\n",
    "            return True \n",
    "    return False \n",
    "def city():\n",
    "    if is_a_city:\n",
    "        if is_off_peak or has_attraction:\n",
    "            return True \n",
    "    return False \n",
    "\n",
    "def twolocations():\n",
    "    if beach() or city():\n",
    "        return True \n",
    "    if skii() and city():\n",
    "        return True \n",
    "    return False "
   ]
  }
 ],
 "metadata": {
  "kernelspec": {
   "display_name": "Python 3",
   "language": "python",
   "name": "python3"
  },
  "language_info": {
   "codemirror_mode": {
    "name": "ipython",
    "version": 3
   },
   "file_extension": ".py",
   "mimetype": "text/x-python",
   "name": "python",
   "nbconvert_exporter": "python",
   "pygments_lexer": "ipython3",
   "version": "3.8.8"
  }
 },
 "nbformat": 4,
 "nbformat_minor": 5
}
