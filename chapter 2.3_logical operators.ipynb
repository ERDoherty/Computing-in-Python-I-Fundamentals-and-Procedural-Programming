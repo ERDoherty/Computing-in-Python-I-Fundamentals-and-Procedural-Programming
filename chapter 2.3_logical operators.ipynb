{
 "cells": [
  {
   "cell_type": "markdown",
   "id": "3ea900e1",
   "metadata": {},
   "source": [
    "#### Operators \n",
    "\n",
    "Operators are the simplest ways to act on simple data types like integers or floats. They typically work on the most primitive data types in programming languages. Mathematical operators work on integers and floats while logical operators work on booleans. \n",
    "\n",
    "Some languages allow us to use operators in creative ways, though. We can use subtraction with dates to find time between them or multiply strings for duplication. \n",
    "\n",
    "##### Mathematical operators are likely most familiar, but less important. \n",
    "\n",
    "Most lanuages have at least five mathematical operators \n",
    "\n",
    "`addition`\n",
    "`subtraction`\n",
    "`multiplication`\n",
    "`division`\n",
    "`modulus`\n",
    "\n",
    "Most often these operators work on numbers, but sometimes we will find we can use these on other data types as well. \n",
    "\n",
    "##### Logical operators play a big role in computing "
   ]
  },
  {
   "cell_type": "markdown",
   "id": "399bd19f",
   "metadata": {},
   "source": [
    "##### Generally, there are two kinds of logical operators: \n",
    "\n",
    "`relational operators` and `boolean operators`\n",
    "\n",
    "**Relational operators** check if things are true in the world or our data. They check the relationship between multiple things. \n",
    "**Boolean operators** check the combination of multiple relational operators. \n",
    "\n",
    "Logical operators are closely entwined with a conditional statement. When one compares something, the comparison is the logical operator while the decision based on that comparison is the conditional. "
   ]
  },
  {
   "cell_type": "markdown",
   "id": "e220b0a7",
   "metadata": {},
   "source": [
    "##### Numeric Comparison Operators \n",
    "\n",
    "Operators that facilitate numeric comparison between values. Typically, these are greater than (>), greater than or equal to (>=), equal to (==), less than (<) and less than or equal to (<=). \n",
    "\n",
    "**These operators can sometimes be used for comparisons that are not numeric, but that nonetheless have underlying order.**\n",
    "\n",
    "`Apple > Banana = True` \n",
    "`January 1, 2017 > January 15, 2017 = True`\n",
    "\n",
    "##### Non-Numeric Equality Comparisons: \n",
    "\n",
    "Nearly any kind of data can compare for equality, even if it isn't numeric. We can't ask if an apple is greater than an orange, but we can ask if apples and oranges are 'equal', or the same thing.\n",
    "\n",
    "##### Set Operators: \n",
    "Check to see if a value is a member of a set of multiple values (i.e., a list of things). Most often this comes up in strings and lists.\n",
    "\n",
    "Numeric equality comparisons use `==` to evaluate two values. Recall, `=` is an assignment operator while `==` is a numeric operator; it checks if two things equal one another.  "
   ]
  },
  {
   "cell_type": "code",
   "execution_count": null,
   "id": "4ce81d01",
   "metadata": {},
   "outputs": [],
   "source": []
  }
 ],
 "metadata": {
  "kernelspec": {
   "display_name": "Python 3",
   "language": "python",
   "name": "python3"
  },
  "language_info": {
   "codemirror_mode": {
    "name": "ipython",
    "version": 3
   },
   "file_extension": ".py",
   "mimetype": "text/x-python",
   "name": "python",
   "nbconvert_exporter": "python",
   "pygments_lexer": "ipython3",
   "version": "3.8.8"
  }
 },
 "nbformat": 4,
 "nbformat_minor": 5
}
