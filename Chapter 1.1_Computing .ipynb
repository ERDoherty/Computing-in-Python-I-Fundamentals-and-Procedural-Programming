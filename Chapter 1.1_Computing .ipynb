{
 "cells": [
  {
   "cell_type": "markdown",
   "id": "a2ea60a2",
   "metadata": {},
   "source": [
    "### Introduction to Computing \n",
    "\n",
    "##### What is computing? \n",
    "\n",
    "Well, it depends on who you ask. **At the broadest level, computing is anything that involves computers in some way.** Effectively all computing involves programming, or the act of creating instructions for the computer to carry out. b"
   ]
  },
  {
   "cell_type": "markdown",
   "id": "a530a783",
   "metadata": {},
   "source": [
    "### Programming Vocabulary \n",
    "\n",
    "**code** - commands given to a computer to perform some task \n",
    "**line of code** - *generally* a single command and the smallest unit we're interested in dealing with.\n",
    "**program** - an independent collection of lines of code that serves one or more overall functions. They are usually what we are interested in building. \n",
    "**input** - what we put into a program. \n",
    "    *User input* - where the user directly inputs some data (e.g., pressing keys to output a printed letter)\n",
    "    *Web sites* - \n",
    "**output** - what we get in return from a program \n",
    "\n",
    "##### Input and Output \n",
    "\n",
    "Input is effectively anything that the user puts into a program while output is what comes out of the program. Generally, we want the output to be affected in some way by the input. In the simplest way, input could be pressing keys to type these notes while the output is the printed letters on the screen. \n",
    "\n",
    "There are a lot of different types of input. They can be from user input (where the user directly inputs some data like in our typing example). Web sites also can be an example; when a web browser (e.g. Chrome) retrieves from website from the internet, the content of the website would be the input and the display of the website on the screen would be the output. There may also be files, another type of input. There may be programs that load files from the computer into our code and display them on the screen. \n",
    "\n",
    "Output can also have many different types. For example, it may be a simple printing to a screen or it could be the result of a program acting on the input to modifies or saves something to a file. The file itself is the output. If the program created a sound, then the sound would be the output. \n",
    "\n",
    "**The input into code is whatever exists before the code is run. The output is whatever the code produces as a result of running (e.g. content on a screen, files on the hard drive, sound).** \n",
    "\n",
    "**_My first reaction to this is how complex a simple input and output may be taking the web site retrieval example. There is code that sends a request to the web to actually retrieve the data. Then there is code that does the retrieving, code that *inputs* data into a program and code that *outputs* data somewhere else._**\n",
    "\n",
    "##### Compiling and Running \n",
    "\n",
    "Compiling is reading over code and looking for errors in the way we've written it. While we can just look at code and see typos or comma splices, we cannot catch everything syntactically that is wrong with it. Therefore, we must rely on **compilers** to do it for us. They read in the code and let us know any problems they find. **To compile is to translate human-readable code into instructions that the computer can execute.** \n",
    "        *Just because code may be compiled, doesn't mean it actually produces what we told it to.*\n",
    "        *Additionally, compilers do far more than described here and function in a much deeper way to the computer. It takes high level code and translates it into low level code that the computer can understand.*\n",
    "\n",
    "Running is when the program is executed. It is carrying out the steps of code. \n",
    "\n",
    "***Compilation in this definition or scope could potentially be skipped (e.g., following directions without actually reading them first). Computing languages that require compilation are called \"Static (compiled)\" while those that don't require compilation are \"Dynamic (interpreted)\".***"
   ]
  },
  {
   "cell_type": "markdown",
   "id": "bc096675",
   "metadata": {},
   "source": [
    "##### Programming Languages\n",
    "\n",
    "Different programming languages have different syntaxes, vocabularies, and structures. **Static** languages require a compilation step while **dynamic** languages do not. **High level languages** involve a great deal of abstraction away from low-level details of the computer like memory whereas **low-level languages** require programmers to do a lot more of those things manually.\n",
    "\n",
    "Different languages are good for different things. For math or gaming, you might be more interested in the small details. For rapid functions, you might be more interested in abstracted languages. \n",
    "\n",
    "##### The Console \n",
    "\n",
    "Using a console allows the user to create a program or write code in a separate output medium to show exclusively text-based output. Graphical User Interfaces are output mediums that use more than just text like forms, buttons, tabs, and more. More programs are graphical user interfaces. "
   ]
  },
  {
   "cell_type": "markdown",
   "id": "cbc39efd",
   "metadata": {},
   "source": [
    "##### Code Segments \n",
    "\n",
    "Code segments are highlighted in different colors: \n",
    "\n",
    "variables are in blue \n",
    "functions are in purple\n",
    "reserved words are in red\n",
    "strings/char are in green\n",
    "\n",
    "##### Procedural Programming - use of general numbers and basic things \n",
    "\n",
    "**Procedural programming** is the basic approach to code, writing sequences of commands that are run by the computer in a specified order. \n",
    "**variables** create and modify data in our programs \n",
    "**logical operators** establishing the truth or falsehood of relationships among variables in our programs\n",
    "**mathematical operators** using arithmetic operators (addition, multiplication) to modify the values of variables in our program \n",
    "**control structures** is the general idea that lines of code that can control other lines of code \n",
    "**conditionals** are lines of code (**statements**) that check logical expressions to see if certain code blocks should run (e.g., \"If statements\"). \n",
    "**loops** lines of code that instruct the computer to repeat a block of code until some condition is met \n",
    "**functions** mini programs with their own input, code, and output\n",
    "**exception handling** lines of code that instruct the computer how to fail gracefully when errors are encountered \n",
    "\n",
    "##### Data structures \n",
    "\n",
    "**data structures** - the general idea of data types more complex than individual letters and numbers \n",
    "**strings** - ordered series of characters that often represent natural human language \n",
    "    programmatic term for text\n",
    "**lists** - ordered series of other kinds of data, collected under one variable name and accessed via numeric indices\n",
    "**file input/output** - writing a program's data to a file so it can later be re-loaded after the program is closed and reopened\n",
    "**dictionaries** - pair of keys and values collected under one variable name like lists with non-numeric indices\n",
    "\n",
    "##### Objects and Algorithms \n",
    "\n",
    "**objects** - creating and using custom data types so our programs can reason about the world the way we do :) \n",
    "**algorithms** - complex sequences of instructions that transform data or generate useful conclusions b"
   ]
  },
  {
   "cell_type": "markdown",
   "id": "0ab7f7c3",
   "metadata": {},
   "source": [
    "### About Python \n",
    "\n",
    "Python is a high-level dynamic (interpreted) programming language. High-level here means it abstracts far away from the core processor and memory of the computer. Python is platform independent. Low-level languages are more likely to not be compatible with certain operating systems. \n",
    "\n",
    "Since Python doesn't require a compiler, it can be used in command line but we might not be aware of erros until we execute the code. "
   ]
  }
 ],
 "metadata": {
  "kernelspec": {
   "display_name": "Python 3 (ipykernel)",
   "language": "python",
   "name": "python3"
  },
  "language_info": {
   "codemirror_mode": {
    "name": "ipython",
    "version": 3
   },
   "file_extension": ".py",
   "mimetype": "text/x-python",
   "name": "python",
   "nbconvert_exporter": "python",
   "pygments_lexer": "ipython3",
   "version": "3.9.7"
  }
 },
 "nbformat": 4,
 "nbformat_minor": 5
}
