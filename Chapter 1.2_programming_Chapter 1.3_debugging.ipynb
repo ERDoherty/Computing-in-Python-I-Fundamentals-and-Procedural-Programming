{
 "cells": [
  {
   "cell_type": "markdown",
   "id": "6e408331",
   "metadata": {},
   "source": [
    "### Programming \n",
    "\n",
    "##### Encountering errors \n",
    "\n",
    "\"Traceback\" is what errors are referred to in Python. \n",
    "\n",
    "Errors occur when code attempts to do something it isn't allowed to do. We are generally informed where in our code something happened. Usually, it isn't the line of code itself that has a problem, instead something happened because an error occurred earlier and it propagated down. \n",
    "\n",
    "**For example, if we try to open a file that doesn't exist, the line of code that tried to open the file might not be the problem. Instead, it is the line of code that created an incorrect file name.**\n",
    "\n",
    "##### Incorrect Results \n",
    "\n",
    "When incorrect results happen, we need to trace through the program and discover where incorrect steps were taken to resolve them. \n",
    "\n",
    "##### Debugging \n",
    "\n",
    "**debugging** - resolving problems in code whether it be errors thrown in compilation or running or mismatches between between the desired and observed output. \n",
    "\n",
    "Debugging is like doing research on our code. \n",
    "\n",
    "**Joyner's Law of Debugging**: The time required to fix an error is inversely proportional to the time required to find the error. The longer it takes to find the error, the easier it is to fix once found. (Generally.)"
   ]
  },
  {
   "cell_type": "markdown",
   "id": "0ab348d2",
   "metadata": {},
   "source": [
    "### Types of Errors\n",
    "\n",
    "**compilation errors** - errors that occur during the computer's read through of the code. Not every programming language has compilation and so not every language has compilation errors. **These problems are problems inherent within the code. It has to be an error that can be identified just by looking at the code.** \n",
    "    - Python of JavaScript can have tools that *simulate* this process, letting us know before we run our code if there are obvious errors present. \n",
    "\n",
    "**syntax errors** - code that doesn't work with the current programming language (i.e., akin to spelling errors in an essay). \n",
    "\n",
    "**name errors** - code that tries to use somthing that doesn't exist (i.e., calling a variable that hasn't been defined). \n",
    "\n",
    "**type errors** - code that doesn't make sense for the data type\n",
    "\n",
    "**attribute errors** - occurs when we ask for information *about* a variable that doesn't make sense.\n",
    "\n",
    "**runtime errors** - problems that arrise when trying to actually execute the code (e.g., insufficient memory). Examples of runtime errors include: \n",
    "1. Dividing by zero \n",
    "2. Null errors - referring to a variable that has no value (request and directions make sense, but you don't see the error until runtime)\n",
    "3. Memory errors - code that surpasses your computer's memory.\n",
    "    - languages that don't have compilation will only have runtime errors (instead of compilation errors). "
   ]
  },
  {
   "cell_type": "markdown",
   "id": "87e1d1fa",
   "metadata": {},
   "source": [
    "### Types of Debugging \n",
    "\n",
    "**print debugging** - adding print statements throughout the run allows one to see where problems might be arising or where code is taking a long time to run. \n",
    "\n",
    "**scope debugging** - debugging small sections of a program to make sure things have run correctly so far. It may use print debugging, but rather than observing the status of program flow, the goal is to examine whether a certain section of code behaved correctly. \n",
    "\n",
    "**rubber duck debugging** - try explaining the problem by scratch to some inanimate object. "
   ]
  }
 ],
 "metadata": {
  "kernelspec": {
   "display_name": "Python 3 (ipykernel)",
   "language": "python",
   "name": "python3"
  },
  "language_info": {
   "codemirror_mode": {
    "name": "ipython",
    "version": 3
   },
   "file_extension": ".py",
   "mimetype": "text/x-python",
   "name": "python",
   "nbconvert_exporter": "python",
   "pygments_lexer": "ipython3",
   "version": "3.9.7"
  }
 },
 "nbformat": 4,
 "nbformat_minor": 5
}
