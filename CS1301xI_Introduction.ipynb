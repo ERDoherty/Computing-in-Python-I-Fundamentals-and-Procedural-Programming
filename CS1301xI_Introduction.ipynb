{
 "cells": [
  {
   "cell_type": "markdown",
   "id": "1a7bdce9",
   "metadata": {},
   "source": [
    "### CS1201xl \n",
    "\n",
    "##### This is the first course in a 4-course Professional Certificate: \"Computing in Python\". This course will cover basics of computing and procedural programming (e.g., mathematical, relational, and logical operators), variables and their types, and the basics of commenting).\n",
    "\n",
    "The Introduction to Computing course at Georgia Tech is the parent of this Professional Certificate construct. It contains the same content that students at Georgia Tech learn for college credit. \n",
    "\n",
    "Based on student feedback, it was noted that most edX courses are 4-5 weeks long with 5-6 hours of work per week while this course was 16 weeks longs at 10 hours of work per week (prior to problem, testing, and content additions). **It should be noted that the recommended schedule contains 4 courses at 5 weeks per course with 10 hours per week. I personally couldn't do this as a full-time employee, so I have modified it to 1 course at 5 weeks per course, self-paced.**"
   ]
  },
  {
   "cell_type": "markdown",
   "id": "c8265888",
   "metadata": {},
   "source": [
    "### Course Structure \n",
    "\n",
    "##### Each of the four courses in the certificate concludes with one exam given to students at Georgia Tech. This is the breakdown of chapter work in the certificate: \n",
    "\n",
    "CS130xI: Units 1 and 2 (1.1-1.3, 2.2-2.4; Introduction to procedural programming)\n",
    "\n",
    "CS130xII: Unit 3 (3.1-3.5; Control structures)\n",
    "\n",
    "CS130xIII: Unit 4 (4.1-4.5; Data structures)\n",
    "\n",
    "CS130xIV: Unit 5 (5.1-5.2; Objects & Algorithms)\n",
    "\n",
    "\n",
    "##### For the courses, there are in-lesson exercises and discussion boards. Those taking the course for credit will receive components oriented toward course grades: quizzes, tests, and certificates. Those learners are also eligible to receive 5 Continuing Education Units (CEUs) from Georgia Tech (so this course would be 20 CEUs!) "
   ]
  },
  {
   "cell_type": "markdown",
   "id": "34962b02",
   "metadata": {},
   "source": [
    "### Course Assessments \n",
    "\n",
    "##### Individual grades in this course are derived from two categories: \n",
    "\n",
    "1. Problem sets: 70% (each worth ~23% of the grade average) \n",
    "2. Test: 30% (1 test) \n",
    "\n",
    "All exercises and problem sets allow **unlimited** attempts. Coding problems on the tests allow unlimited attempts, but multiple choice and fill-in problems offer a limited number of attempts. \n",
    "\n",
    "At the end of the course, there are two practice tests which mimic the structure and requirements of the real test: same number of problems, similar concepts, and difficulty. *Fun fact: Practice Test 2 is the real test used during the last year's run of the course!*\n",
    "\n",
    "**It is recommended to time yourself on the practice tests to gauge your readiness for the real test. For the real test, you'll have two hours.**"
   ]
  },
  {
   "cell_type": "markdown",
   "id": "c27cd7e2",
   "metadata": {},
   "source": [
    "The majority of one's grade comes from exercises and problems. One can also assess how well they're doing in the course or how much progress they've made by checking the Progress Page (very tope of the course page in edX). "
   ]
  },
  {
   "cell_type": "markdown",
   "id": "f90640c9",
   "metadata": {},
   "source": [
    "### Asking for Help \n",
    "\n",
    "##### There are many ways to get help!\n",
    "\n",
    "Discussion boards are located on the edX website under the heading 'Discussion'. They are the place to raise questions or seek help. There is also Slack for an active, informal community.\n",
    "\n",
    "##### Slack etiquette\n",
    "\n",
    "Generally, one should do the following when posting on Slack forums: \n",
    "1. Include your code (not functional code!) \n",
    "2. Include your output! \n",
    "3. Include line numbers! \n",
    "4. Include the **full** problem name\n",
    "5. Include the directions\n",
    "6. Include a screenshot\n",
    "7. **Don't be afraid to look dumb**"
   ]
  },
  {
   "cell_type": "markdown",
   "id": "a878fe67",
   "metadata": {},
   "source": [
    "### Smartbook \n",
    "\n",
    "The Smartbook is the textbook that has been specifically designed for the course (\"Introduction to Computing\"). It is congruent with the edX course materials and it is highly interactive. \n",
    "\n",
    "As one moves through the material, they answer questions within the platform that gauges readiness to advance. If there are concepts that did not click, the book directs you to the passages and sections that cover the sticky material. \n",
    "\n",
    "The book is available as a free PDF and can be downloaded here: http://www.davidjoyner.net/b/wp-content/uploads/2017/03/Joyner_IntroductiontoComputing_1stEdition.pdf \n",
    "\n",
    "On the edX website, it is usually on the taskbar of the course being studied (the icon is a small book). Alternatively, one can scroll to the bottom of the page and click on the link to the appropriate chapter. \n",
    "\n",
    "The practice icon (bottom left) will begin to flask when it is time to take a break and practice!  "
   ]
  },
  {
   "cell_type": "markdown",
   "id": "0c31fa41",
   "metadata": {},
   "source": [
    "### Vocareum\n",
    "\n",
    "##### Vocareum is the learning management system that's used for embedded progamming exercises. You'll generally always access it through embedded coding exercises. \n",
    "\n",
    "There are two types of Vocareum widgets in the course: \n",
    "1. Exercises \n",
    "2. Sandboxes \n",
    "\n",
    "**Exercises** are problems with actual directions to complete - they are optional and ungraded when embedded in chapters and a *required* for the verified certificate learners. One can keep submitting until full credit is received. \n",
    "\n",
    "**Sandboxes** are not required but they are meant to give you a place to practice and play! As one advances through lectures, one likely will have questions about what happens if something is done another way. In the sandbox, there are no rules. No judgments. Just sand. \n",
    "    --> Sandboxes are differentiated by two components: \n",
    "        1. They will have 'Sandbox' in the name and will **not** have \"(X/X points)\" which will help to distinguish required exercises. "
   ]
  }
 ],
 "metadata": {
  "kernelspec": {
   "display_name": "Python 3 (ipykernel)",
   "language": "python",
   "name": "python3"
  },
  "language_info": {
   "codemirror_mode": {
    "name": "ipython",
    "version": 3
   },
   "file_extension": ".py",
   "mimetype": "text/x-python",
   "name": "python",
   "nbconvert_exporter": "python",
   "pygments_lexer": "ipython3",
   "version": "3.9.7"
  }
 },
 "nbformat": 4,
 "nbformat_minor": 5
}
