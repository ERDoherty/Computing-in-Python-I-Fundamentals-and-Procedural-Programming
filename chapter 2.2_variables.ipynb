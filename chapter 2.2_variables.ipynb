{
 "cells": [
  {
   "cell_type": "markdown",
   "id": "bed776f8",
   "metadata": {},
   "source": [
    "### Variables \n",
    "\n",
    "##### Variables are names that hold some value. In prinicples of self-documenting code, we should ideally give names that suggest what the variable holds. There are both rules and conventions to naming. \n",
    "\n",
    "Rule #1: variable names cannot contain spaces or special characters in python, only letters, numbers, and underscores.\n",
    "Rule #2: variables must start with a letter\n",
    "Rule #3: variables cannot use reserved words (e.g., \"for\" or \"in\")\n",
    "\n",
    "Convention #1: use variable names that provide insight into what the variable contains\n",
    "\n",
    "##### We can't assign variables to values, we must assign values to variables. \n",
    "\n",
    "Python assigns variables with an equals sign while some other languages like R assign variables with different assignment operators ( <-)\n",
    "\n",
    "\n",
    "##### Breaking programming rules \n",
    "\n",
    "One way to break programming rules would be by trying to use a variable that doesn't have a value assigned to it yet. If one were to do this, the computer would throw a \"null pointer exception\". In python, this will show as \"NameError\". \n",
    "\n",
    "We cannot assign values to one another either. \n",
    "\n",
    "You are able to assign `None` to variables. This will work differently than just not assigning values to variables (result in error). "
   ]
  },
  {
   "cell_type": "markdown",
   "id": "72f36b93",
   "metadata": {},
   "source": [
    "### Data Types\n",
    "\n"
   ]
  }
 ],
 "metadata": {
  "kernelspec": {
   "display_name": "Python 3",
   "language": "python",
   "name": "python3"
  },
  "language_info": {
   "codemirror_mode": {
    "name": "ipython",
    "version": 3
   },
   "file_extension": ".py",
   "mimetype": "text/x-python",
   "name": "python",
   "nbconvert_exporter": "python",
   "pygments_lexer": "ipython3",
   "version": "3.8.8"
  }
 },
 "nbformat": 4,
 "nbformat_minor": 5
}
