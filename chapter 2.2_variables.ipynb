{
 "cells": [
  {
   "cell_type": "markdown",
   "id": "bed776f8",
   "metadata": {},
   "source": [
    "### Variables \n",
    "\n",
    "##### Variables are names that hold some value. In prinicples of self-documenting code, we should ideally give names that suggest what the variable holds. There are both rules and conventions to naming. \n",
    "\n",
    "Rule #1: variable names cannot contain spaces or special characters in python, only letters, numbers, and underscores.\n",
    "Rule #2: variables must start with a letter\n",
    "Rule #3: variables cannot use reserved words (e.g., \"for\" or \"in\")\n",
    "\n",
    "Convention #1: use variable names that provide insight into what the variable contains\n",
    "\n",
    "##### We can't assign variables to values, we must assign values to variables. \n",
    "\n",
    "Python assigns variables with an equals sign while some other languages like R assign variables with different assignment operators ( <-)\n",
    "\n",
    "\n",
    "##### Breaking programming rules \n",
    "\n",
    "One way to break programming rules would be by trying to use a variable that doesn't have a value assigned to it yet. If one were to do this, the computer would throw a \"null pointer exception\". In python, this will show as \"NameError\". \n",
    "\n",
    "We cannot assign values to one another either. \n",
    "\n",
    "You are able to assign `None` to variables. This will work differently than just not assigning values to variables (result in error). "
   ]
  },
  {
   "cell_type": "markdown",
   "id": "72f36b93",
   "metadata": {},
   "source": [
    "### Data Types\n",
    "\n",
    "When dealing with \"132\", we're treating the characters as text. We could print it, reverse it, survey the elements duplicate it, etc. If we were dealing with 132, we would only be able to do very different things (arithmetic operations). \n",
    "\n",
    "It is possible to convert between data types.\n",
    "\n",
    "`str(variable)`: Takes as input some variables and returns a string representation of the variable's value. Every data type can be converted to some kind of string. "
   ]
  },
  {
   "cell_type": "code",
   "execution_count": null,
   "id": "b966ccdf",
   "metadata": {},
   "outputs": [],
   "source": [
    "# For example: \n",
    "\n",
    "MyNumber = 5 \n",
    "print (type(MyNumber))\n",
    "MyNumberAsString = str(MyNumber)\n",
    "print(type(MyNumberAsString))"
   ]
  },
  {
   "cell_type": "code",
   "execution_count": null,
   "id": "db46a10a",
   "metadata": {},
   "outputs": [],
   "source": [
    "# Another example (it should be noted that the date printed would already be a string due to implicit conversion): \n",
    "\n",
    "from datetime import date\n",
    "myDate = date.today()\n",
    "myDateAsString = str(myDate)\n",
    "print(myDate)"
   ]
  },
  {
   "cell_type": "markdown",
   "id": "8c3dabe3",
   "metadata": {},
   "source": [
    "##### When you put a value besides a string into Python's print function, it automatically tries to convert it to a string. It is an implicit conversion; Python will automatically call the string conversion function on whatever is put inside the parentheses if it wasn't already a string. Using the str() is manually doing that implicit conversion. "
   ]
  },
  {
   "cell_type": "markdown",
   "id": "7e7b67e9",
   "metadata": {},
   "source": [
    "### Potential Issues Faced with String Conversions \n",
    "\n",
    "##### The STR function will work to singularly convert nearly any variable to some kind of string. But say we had the following complex code. "
   ]
  },
  {
   "cell_type": "code",
   "execution_count": null,
   "id": "5d51ae1d",
   "metadata": {},
   "outputs": [],
   "source": [
    "from datetime import date \n",
    "myDate = date.today()\n",
    "print(\"Today's date\" + myDate)"
   ]
  },
  {
   "cell_type": "markdown",
   "id": "4b7e291f",
   "metadata": {},
   "source": [
    "##### The result of the above code is a TypeError. Remember that  print() intends to implicitly convert characters to a string and with this context (two different data types), it cannot make that conversion. \n",
    "\n",
    "There is value in including labels when trying to print. There are a number of ways to do this correctly. "
   ]
  },
  {
   "cell_type": "code",
   "execution_count": 4,
   "id": "8360cb02",
   "metadata": {
    "scrolled": false
   },
   "outputs": [
    {
     "name": "stdout",
     "output_type": "stream",
     "text": [
      "Today's date: 2022-02-24\n",
      "Today's date: 2022-02-24\n",
      "Today's date: 2022-02-24\n",
      "Today's Date: 2022-02-24\n",
      "Today's Date: 2022-02-24\n"
     ]
    }
   ],
   "source": [
    "# In any case, we'd need to tell the computer how to interpret dates, get today's date and store it in a variable, \n",
    "# then explicitly convert that variable to a string\n",
    "\n",
    "from datetime import date \n",
    "mydate = date.today()\n",
    "mydateasString = str(mydate)\n",
    "\n",
    "#1. Print the two strings concatenated\n",
    "\n",
    "print(\"Today's date: \" + mydateasString)\n",
    "\n",
    "#2. Instead of storing the date in a variable, include the code directly\n",
    "\n",
    "mydateasString = str(date.today())\n",
    "print(\"Today's date: \" + mydateasString)\n",
    "\n",
    "#3. String conversion inside the print statement \n",
    "mydate = date.today()\n",
    "print(\"Today's date: \" + str(mydate))\n",
    "\n",
    "#4. Not assigning to a variable (what I would have done initially)\n",
    "print(\"Today's Date: \" + str(date.today()))\n",
    "\n",
    "#5. Cleaing up the code.  \n",
    "print(\"Today's Date:\", date.today())\n",
    "\n",
    "### Using the comma instead of the plus sign tells the computer to interpret each thing in the parentheses as an individual \n",
    "### piece of data. The comma will add a space and the print statement will implictly convert each thing a string if needed"
   ]
  },
  {
   "cell_type": "markdown",
   "id": "d4b3ebe5",
   "metadata": {},
   "source": [
    "##### Just like we can convert to strings, we can convert to other data types. \n",
    "\n",
    "`int()`\n",
    "`float()`\n",
    "`bool()`\n",
    "\n",
    "This can get complex and really depends on what data types you're trying to switch between. For example, if you had `myFloatAsString = \"5.1\"` and wanted to convert that to an integer to do math on it, you'd get a `ValueError: invalid literal for int() with base 10` when running int(). This is because under no circumstance can a float, 5.1, be a whole, real, natural number.\n",
    "\n",
    "##### Legal conversions \n",
    "\n",
    "- float to int\n",
    "- bool to/from anything **True if the value is non-zero, non-empty, and non-false.**\n",
    "- "
   ]
  },
  {
   "cell_type": "code",
   "execution_count": 13,
   "id": "a85e7ac8",
   "metadata": {
    "scrolled": true
   },
   "outputs": [
    {
     "name": "stdout",
     "output_type": "stream",
     "text": [
      "False\n"
     ]
    }
   ],
   "source": [
    "mybool = False \n",
    "myboolean = bool()\n",
    "print(myboolean)"
   ]
  },
  {
   "cell_type": "code",
   "execution_count": 12,
   "id": "6402e5cf",
   "metadata": {},
   "outputs": [
    {
     "ename": "ValueError",
     "evalue": "invalid literal for int() with base 10: '5.1'",
     "output_type": "error",
     "traceback": [
      "\u001b[1;31m---------------------------------------------------------------------------\u001b[0m",
      "\u001b[1;31mValueError\u001b[0m                                Traceback (most recent call last)",
      "\u001b[1;32m<ipython-input-12-898b5ea48e58>\u001b[0m in \u001b[0;36m<module>\u001b[1;34m\u001b[0m\n\u001b[1;32m----> 1\u001b[1;33m \u001b[0mmyint\u001b[0m \u001b[1;33m=\u001b[0m \u001b[0mint\u001b[0m\u001b[1;33m(\u001b[0m\u001b[1;34m\"5.1\"\u001b[0m\u001b[1;33m)\u001b[0m\u001b[1;33m\u001b[0m\u001b[1;33m\u001b[0m\u001b[0m\n\u001b[0m\u001b[0;32m      2\u001b[0m \u001b[0mprint\u001b[0m\u001b[1;33m(\u001b[0m\u001b[0mmyint\u001b[0m\u001b[1;33m)\u001b[0m\u001b[1;33m\u001b[0m\u001b[1;33m\u001b[0m\u001b[0m\n",
      "\u001b[1;31mValueError\u001b[0m: invalid literal for int() with base 10: '5.1'"
     ]
    }
   ],
   "source": [
    "myint = int(\"5.1\")\n",
    "print(myint)"
   ]
  },
  {
   "cell_type": "code",
   "execution_count": 2,
   "id": "06b0663c",
   "metadata": {},
   "outputs": [
    {
     "name": "stdout",
     "output_type": "stream",
     "text": [
      "HelloHelloHelloHelloHello\n"
     ]
    }
   ],
   "source": [
    "my_integer = 5 \n",
    "my_string = \"Hello\"\n",
    "\n",
    "print(my_integer * my_string)"
   ]
  },
  {
   "cell_type": "code",
   "execution_count": 4,
   "id": "fbf8fb4a",
   "metadata": {},
   "outputs": [
    {
     "ename": "TypeError",
     "evalue": "can't multiply sequence by non-int of type 'float'",
     "output_type": "error",
     "traceback": [
      "\u001b[0;31m---------------------------------------------------------------------------\u001b[0m",
      "\u001b[0;31mTypeError\u001b[0m                                 Traceback (most recent call last)",
      "\u001b[0;32m/var/folders/_3/wt88r8mx2614586f7ndk2yvm0000gn/T/ipykernel_2964/821018843.py\u001b[0m in \u001b[0;36m<module>\u001b[0;34m\u001b[0m\n\u001b[1;32m      8\u001b[0m \u001b[0mb\u001b[0m \u001b[0;34m=\u001b[0m \u001b[0mmy_integer\u001b[0m \u001b[0;34m*\u001b[0m \u001b[0mmy_string\u001b[0m\u001b[0;34m\u001b[0m\u001b[0;34m\u001b[0m\u001b[0m\n\u001b[1;32m      9\u001b[0m \u001b[0mc\u001b[0m \u001b[0;34m=\u001b[0m \u001b[0mmy_integer\u001b[0m \u001b[0;34m*\u001b[0m \u001b[0mmy_boolean\u001b[0m\u001b[0;34m\u001b[0m\u001b[0;34m\u001b[0m\u001b[0m\n\u001b[0;32m---> 10\u001b[0;31m \u001b[0md\u001b[0m \u001b[0;34m=\u001b[0m \u001b[0mmy_float\u001b[0m \u001b[0;34m*\u001b[0m \u001b[0mmy_string\u001b[0m\u001b[0;34m\u001b[0m\u001b[0;34m\u001b[0m\u001b[0m\n\u001b[0m\u001b[1;32m     11\u001b[0m \u001b[0me\u001b[0m \u001b[0;34m=\u001b[0m \u001b[0mmy_float\u001b[0m \u001b[0;34m*\u001b[0m \u001b[0mmy_boolean\u001b[0m\u001b[0;34m\u001b[0m\u001b[0;34m\u001b[0m\u001b[0m\n\u001b[1;32m     12\u001b[0m \u001b[0mf\u001b[0m \u001b[0;34m=\u001b[0m \u001b[0mmy_string\u001b[0m \u001b[0;34m*\u001b[0m \u001b[0mmy_boolean\u001b[0m\u001b[0;34m\u001b[0m\u001b[0;34m\u001b[0m\u001b[0m\n",
      "\u001b[0;31mTypeError\u001b[0m: can't multiply sequence by non-int of type 'float'"
     ]
    }
   ],
   "source": [
    "## Identify which lines of code will NOT work. \n",
    "\n",
    "## It is only \"d = \" because you cannot multpliy a string to yield a \n",
    "## fraction of that string. All of the rest work (however, the solution\n",
    "## only states that c, e, and f work.)\n",
    "\n",
    "my_integer = 5\n",
    "my_float = 5.1\n",
    "my_string = \"Hello\"\n",
    "my_boolean = True\n",
    "a = my_integer * my_float\n",
    "b = my_integer * my_string\n",
    "c = my_integer * my_boolean\n",
    "d = my_float * my_string\n",
    "e = my_float * my_boolean\n",
    "f = my_string * my_boolean"
   ]
  },
  {
   "cell_type": "code",
   "execution_count": 5,
   "id": "f5e80bde",
   "metadata": {
    "scrolled": true
   },
   "outputs": [
    {
     "name": "stdout",
     "output_type": "stream",
     "text": [
      "Helloworld\n",
      "None\n"
     ]
    }
   ],
   "source": [
    "## Example of NoneType\n",
    "a = \"Hello\"\n",
    "b = \"world\"\n",
    "c = a + b\n",
    "d = print(c)\n",
    "print(d)\n",
    "\n",
    "# print(c) was \"Helloworld\" just printing to the console. It did something\n",
    "# rather than resolving to a value. There is no actual value for d to be\n",
    "# assigned. "
   ]
  },
  {
   "cell_type": "markdown",
   "id": "ea53cdf6",
   "metadata": {},
   "source": []
  }
 ],
 "metadata": {
  "kernelspec": {
   "display_name": "Python 3 (ipykernel)",
   "language": "python",
   "name": "python3"
  },
  "language_info": {
   "codemirror_mode": {
    "name": "ipython",
    "version": 3
   },
   "file_extension": ".py",
   "mimetype": "text/x-python",
   "name": "python",
   "nbconvert_exporter": "python",
   "pygments_lexer": "ipython3",
   "version": "3.9.7"
  }
 },
 "nbformat": 4,
 "nbformat_minor": 5
}
