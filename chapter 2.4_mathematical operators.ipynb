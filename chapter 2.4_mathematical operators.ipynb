{
 "cells": [
  {
   "cell_type": "markdown",
   "id": "c57161ca",
   "metadata": {},
   "source": [
    "##### Mathematical Operators \n",
    "\n",
    "**assignment operators** - Included in mathematical operators because generally when we perform mathematical operations, we need to store those values somewhere. That is where the assignment operator comes in handy. \n",
    "\n",
    "To look ahead, Python's seven basic operators are:\n",
    "\n",
    "**Addition** represented by a plus sign (+). For example, 7 + 4 = 11.\n",
    "\n",
    "**Subtraction** represented by a minus sign (-). For example, 7 - 4 = 3.\n",
    "\n",
    "**Multiplication** represented by an asterisk (`*`). For example, 7 * 4 = 28.\n",
    "\n",
    "**Division** represented by a forward-slash (/). For example, 7 / 4 = 1.75.\n",
    "        **Note** - with division, the printed number will always be a decimal because there is no way to guarantee the values are integers. \n",
    "\n",
    "**Modulus or remainder** represented by a percent sign (%). For example, 7 % 4 = 3 (because the remainder of 7 over 4 is 3).\n",
    "\n",
    "**Floor division**, represented by a double-forward-slash (//). For example, 7 // 4 = 1 (because 7 over 4 is 1.75, which is rounded down to 1).\n",
    "        **Note** - when floor division is used with negative integers, it will round down. So -5//2 will yield -3, not -2.5. **Floor division will round down to the next lowest number - BUT IT MAY CONTAIN A DECIMAL IF A FLOAT WAS ANYWHERE IN THE EXECUTION**\n",
    "        \n",
    "**Exponentiation** represented by a double-asterisk (**). For example, 7 ** 4 = 2401.\n",
    "\n",
    "\n",
    "#### Python's Internal Operations \n",
    "\n",
    "When executing mathematical operations, it's important to keep in mind that Python will do them in a particular order. `PEMDAS`\n",
    "\n",
    "`\n",
    "a = 7\n",
    "b = 4\n",
    "c = 2\n",
    "print(a + b % c)`\n",
    "\n",
    "This would yield 7. Modulus is performed first and then addition (modulus being division in PEMAS). \n",
    "\n",
    "`print(a ** c - 1)` \n",
    "This would yield 48. Exponentiation is performed first followed by subtraction. "
   ]
  },
  {
   "cell_type": "code",
   "execution_count": 3,
   "id": "e67ca40a",
   "metadata": {},
   "outputs": [
    {
     "name": "stdout",
     "output_type": "stream",
     "text": [
      "0.0\n",
      "1.75\n",
      "0.0\n"
     ]
    }
   ],
   "source": [
    "# Example of floor divison and PEMDAS \n",
    "\n",
    "print(7/4//2)\n",
    "print(7/4)\n",
    "print(1.75//2)"
   ]
  },
  {
   "cell_type": "markdown",
   "id": "e4fd92ad",
   "metadata": {},
   "source": [
    "### Self Assignment \n",
    "\n",
    "**Self-Assignment:** A common programming pattern where a variable is assigned to the output of an expression that included the variable itself. In essence, this is the act of updating variables that will inherently utilize the values that were assigned to them. \n",
    "\n",
    "    e.g., A bank account balance that received a deposit would need to reference the balance when adding some quantity to it which would then get updated as the new balance. \n",
    "    \n",
    "**This brings up a very important point about the assignment operator. Python (and most other programming languages) will evaluate everything on the right side of the assignment before attempting to assign the result to the variable on the left.**\n",
    "\n",
    "### Incrementing \n",
    "\n",
    "The most common place that self-assignment occurs is with incrementing. Incrementing refers to having a variable whose job it is to count something. So say we want to count the amount of times that \"word\" shows up in some text. As we loop through the text, we will increment some value based on the number of signals received during the loop. \n",
    "\n",
    "**This works because by the time we're actually changing the value of the variable, we've already erased the variable from the right side of the assignment, replacing it with the execution result.** "
   ]
  },
  {
   "cell_type": "code",
   "execution_count": 6,
   "id": "b41b2d71",
   "metadata": {},
   "outputs": [
    {
     "name": "stdout",
     "output_type": "stream",
     "text": [
      "5\n",
      "6\n",
      "7\n",
      "8\n",
      "5\n",
      "6\n",
      "4\n",
      "2.0\n",
      "4.0\n",
      "2.0\n",
      "2.0\n"
     ]
    }
   ],
   "source": [
    "## Self Assignment Example \n",
    "\n",
    "mynum = 5 \n",
    "\n",
    "print(mynum)\n",
    "\n",
    "mynum = mynum + 1 \n",
    "\n",
    "print(mynum)\n",
    "\n",
    "mynum = mynum + 1 \n",
    "\n",
    "print(mynum)\n",
    "\n",
    "mynum = mynum + 1 \n",
    "\n",
    "print(mynum)\n",
    "\n",
    "## If this was a logical operator, it of course would not be True.\n",
    "## Additionally, all other mathematical operators can be used in self-assignment and incrementation. \n",
    "\n",
    "mynum = 5 \n",
    "\n",
    "print(mynum)\n",
    "\n",
    "mynum = mynum + 1 \n",
    "\n",
    "print(mynum)\n",
    "\n",
    "mynum = mynum - 2  \n",
    "\n",
    "print(mynum)\n",
    "\n",
    "mynum = mynum / 2 \n",
    "\n",
    "print(mynum)\n",
    "\n",
    "mynum = mynum ** 2 \n",
    "\n",
    "print(mynum)\n",
    "\n",
    "mynum = mynum // 2 \n",
    "\n",
    "print(mynum)\n",
    "\n",
    "mynum = mynum % 3 \n",
    "\n",
    "print(mynum)"
   ]
  },
  {
   "cell_type": "code",
   "execution_count": 13,
   "id": "faf10751",
   "metadata": {},
   "outputs": [
    {
     "name": "stdout",
     "output_type": "stream",
     "text": [
      "16\n",
      "-1.0\n",
      "0.0\n"
     ]
    }
   ],
   "source": [
    "## Working Exercise \n",
    "\n",
    "my_var = 5\n",
    "#5\n",
    "my_var = my_var + 3\n",
    "#8\n",
    "my_var = my_var // 2 \n",
    "#4 \n",
    "my_var = my_var ** 2 \n",
    "#16\n",
    "print(my_var)\n",
    "\n",
    "my_var = 0 \n",
    "#0\n",
    "my_var = my_var * 5 \n",
    "#0\n",
    "my_var = my_var + 3\n",
    "#3\n",
    "my_var = my_var - 5 \n",
    "#-2 \n",
    "my_var = my_var / 2 \n",
    "#-1.0\n",
    "print(my_var)"
   ]
  },
  {
   "cell_type": "markdown",
   "id": "8cccf50b",
   "metadata": {},
   "source": [
    "##### Self-Assignment Shortcuts \n",
    "\n",
    "Since self-assignment is so common, Python (and other programming languages) have provided useful shortcuts. \n",
    "\n",
    "The general outline is: \n",
    "\n",
    "`x _= y` \n",
    "\n",
    "where `x` is the value you want to update, `_` is the operation you want to use, `=` is the assignment operator, and `y` is the value yo uwant to use to change the variable `x`. \n",
    "\n",
    "For example, \n",
    "`mynum = 5` \n",
    "\n",
    "`mynum += 1` expands out to `mynum = mynum + 1`\n",
    "\n",
    "With these shortcuts, incrementing is still possible. This shortcut mechanism works for every mathematical operator discussed so far. \n",
    "\n",
    "`+=` equates to addition  \n",
    "`-=` equates to subtraction  \n",
    "`*=` equates to multiplication  \n",
    "`//=` equates to floor division \n",
    "`**=` equates to exponentiation\n",
    "`%=` equates to modulus\n",
    "`/=` equates to division \n"
   ]
  },
  {
   "cell_type": "code",
   "execution_count": 5,
   "id": "690aa7d1",
   "metadata": {},
   "outputs": [
    {
     "name": "stdout",
     "output_type": "stream",
     "text": [
      "12\n"
     ]
    }
   ],
   "source": [
    "# Incrementing and Loops Introduction \n",
    "\n",
    "# Say we didn't know about the length function. Here's something we may do:\n",
    "\n",
    "lettercount = 0 \n",
    "\n",
    "for i in \"Hello, world\":\n",
    "    lettercount += 1\n",
    "print(lettercount)"
   ]
  },
  {
   "cell_type": "markdown",
   "id": "17d8684f",
   "metadata": {},
   "source": [
    "### Parentheses Probs \n",
    "\n",
    "Python has a strange way of telling you when you have an unclosed parentheses. Let's look:"
   ]
  },
  {
   "cell_type": "code",
   "execution_count": 7,
   "id": "7da5e32c",
   "metadata": {},
   "outputs": [
    {
     "name": "stdout",
     "output_type": "stream",
     "text": [
      "0.22\n"
     ]
    }
   ],
   "source": [
    "basecapturerate = 0.33\n",
    "cpmultiplier = 0.75\n",
    "ball, curve, berry, throw, medal = 1, 1, 1, 1, 1\n",
    "baserate = (1 - (basecapturerate / (2 * cpmultiplier))\n",
    "multipliers = ball * curve * berry * throw * medal\n",
    "probability = 1 - baserate ** multipliers\n",
    "print(round(probability, 2))\n",
    "            \n",
    "# While the syntax error is one line 5, line 4 is actually the problem. This is because Python is assuming that line 5 is \n",
    "# a continuation of line 4 (due to the open parentheses)."
   ]
  },
  {
   "cell_type": "code",
   "execution_count": 9,
   "id": "e2f48ce0",
   "metadata": {},
   "outputs": [
    {
     "ename": "SyntaxError",
     "evalue": "unexpected EOF while parsing (<ipython-input-9-4bbc6f6b1d94>, line 9)",
     "output_type": "error",
     "traceback": [
      "\u001b[1;36m  File \u001b[1;32m\"<ipython-input-9-4bbc6f6b1d94>\"\u001b[1;36m, line \u001b[1;32m9\u001b[0m\n\u001b[1;33m    print(round(probability, 2)\u001b[0m\n\u001b[1;37m                               ^\u001b[0m\n\u001b[1;31mSyntaxError\u001b[0m\u001b[1;31m:\u001b[0m unexpected EOF while parsing\n"
     ]
    }
   ],
   "source": [
    "# Imagine that the error was actually on the last line of the code instead. \n",
    "\n",
    "basecapturerate = 0.33\n",
    "cpmultiplier = 0.75\n",
    "ball, curve, berry, throw, medal = 1, 1, 1, 1, 1\n",
    "baserate = (1 - (basecapturerate / (2 * cpmultiplier)))\n",
    "multipliers = ball * curve * berry * throw * medal\n",
    "probability = 1 - baserate ** multipliers\n",
    "print(round(probability, 2)\n",
    "      \n",
    "## the syntax error: \"unexpected ROF while parsing\" means that the \"end of file\" was encountered before it was meant to. "
   ]
  }
 ],
 "metadata": {
  "kernelspec": {
   "display_name": "Python 3",
   "language": "python",
   "name": "python3"
  },
  "language_info": {
   "codemirror_mode": {
    "name": "ipython",
    "version": 3
   },
   "file_extension": ".py",
   "mimetype": "text/x-python",
   "name": "python",
   "nbconvert_exporter": "python",
   "pygments_lexer": "ipython3",
   "version": "3.8.8"
  }
 },
 "nbformat": 4,
 "nbformat_minor": 5
}
